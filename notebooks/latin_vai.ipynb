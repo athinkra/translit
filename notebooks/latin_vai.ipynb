{
  "cells": [
    {
      "attachments": {},
      "cell_type": "markdown",
      "metadata": {
        "id": "tIAfzjiijctL"
      },
      "source": [
        "# Latin-Vai/ALALOC transliteration\n",
        "\n",
        "[![Open In Colab](https://colab.research.google.com/assets/colab-badge.svg)](https://colab.research.google.com/github/athinkra/translit/blob/main/notebooks/latin_vai.ipynb)"
      ]
    },
    {
      "cell_type": "markdown",
      "metadata": {
        "id": "fmZCLq6Wju27"
      },
      "source": [
        "## Setup"
      ]
    },
    {
      "cell_type": "code",
      "execution_count": 1,
      "metadata": {
        "id": "yR5HegyZFavI"
      },
      "outputs": [],
      "source": [
        "%%capture\n",
        "try:\n",
        "  import google.colab\n",
        "  IN_COLAB = True\n",
        "except ImportError:\n",
        "  IN_COLAB = False\n",
        "if IN_COLAB:\n",
        "  try:\n",
        "    import el_utilities as elu\n",
        "  except ImportError:\n",
        "    !pip install -U git+https://github.com/enabling-languages/el_internationalisation.git#egg=el_internationalisation\n",
        "    !pip install -U git+https://github.com/enabling-languages/el_utilities.git#egg=el_utilities\n",
        "    import el_utilities as elu\n",
        "  from urllib.request import urlopen\n",
        "else:\n",
        "  import el_utilities as elu\n",
        "  from urllib.request import urlopen"
      ]
    },
    {
      "cell_type": "markdown",
      "metadata": {
        "id": "OZ-DiDVLj0M6"
      },
      "source": [
        "## Create and register transformations"
      ]
    },
    {
      "cell_type": "code",
      "execution_count": 2,
      "metadata": {
        "id": "NkPstlSrFtL1"
      },
      "outputs": [],
      "source": [
        "any_sentence_ldml_url = \"https://raw.githubusercontent.com/enabling-languages/ldml/main/transform/Any-Sentence.xml\"\n",
        "casing_file = urlopen(any_sentence_ldml_url)\n",
        "elu.register_ldml(casing_file)\n",
        "vai_ldml_url = \"https://raw.githubusercontent.com/enabling-languages/ldml/main/transform/und-Vaii-t-und-latn-m0-alaloc-2011-rev.xml\"\n",
        "vai_file = urlopen(vai_ldml_url)\n",
        "elu.register_ldml(vai_file)"
      ]
    },
    {
      "cell_type": "markdown",
      "metadata": {
        "id": "WL2M_3DOmaG5"
      },
      "source": [
        "## Transformations\n",
        "\n",
        "## Iterations?"
      ]
    },
    {
      "cell_type": "code",
      "execution_count": 3,
      "metadata": {
        "colab": {
          "base_uri": "https://localhost:8080/"
        },
        "id": "1LpYVCiAF0HI",
        "outputId": "c0ff995f-6124-4dd7-97e2-3aa87b598476"
      },
      "outputs": [
        {
          "name": "stdout",
          "output_type": "stream",
          "text": [
            "Number of fields are required: 1\n"
          ]
        }
      ],
      "source": [
        "repetitions_input: str = input(\"Number of fields are required: \")\n",
        "repetitions: int = 1\n",
        "if repetitions_input:\n",
        "    repetitions = int(repetitions_input) if repetitions_input != \"0\" else 1"
      ]
    },
    {
      "cell_type": "markdown",
      "metadata": {
        "id": "7XgjeY_Umege"
      },
      "source": [
        "### Transliterations"
      ]
    },
    {
      "cell_type": "code",
      "execution_count": 6,
      "metadata": {
        "colab": {
          "base_uri": "https://localhost:8080/"
        },
        "id": "KEuty6QuF1Ph",
        "outputId": "a1e0f09a-0f33-413a-d3db-41090191eb9c"
      },
      "outputs": [
        {
          "name": "stdout",
          "output_type": "stream",
          "text": [
            "String to transform: Kpolo mɛɛ̃ ɓɛ ɓɛna kɔmiꗔna ɓaha wa tina adama ɗeŋ la tɔɔɓaha la kowa\n",
            "Coverted to Vai:\n",
            "\tꕺꖃ ꘈꗢ ꗪ ꗪꕯ ꗛꕆꗔꕯ ꕒꕌ ꕎ ꔳꕯ ꕉꕜꕮ ꔔꘋ ꕞ ꗋꖺꕒꕌ ꕞ ꖏꕎ\n"
          ]
        }
      ],
      "source": [
        "# Test: Kpolo mɛɛ̃ ɓɛ ɓɛna kɔmiꗔna ɓaha wa tina adama ɗeŋ la tɔɔɓaha la kowa\n",
        "\n",
        "for n in range(0, repetitions):\n",
        "    latn_input_str: str = input(\"String to transform: \")\n",
        "    print(f'Coverted to Vai:\\n\\t{elu.translit_icu(latn_input_str, \"Latin-Vai/ALALOC\")}')"
      ]
    }
  ],
  "metadata": {
    "colab": {
      "collapsed_sections": [
        "fmZCLq6Wju27"
      ],
      "provenance": []
    },
    "kernelspec": {
      "display_name": "Python 3",
      "name": "python3"
    },
    "language_info": {
      "name": "python"
    }
  },
  "nbformat": 4,
  "nbformat_minor": 0
}
