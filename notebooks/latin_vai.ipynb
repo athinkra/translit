{
  "nbformat": 4,
  "nbformat_minor": 0,
  "metadata": {
    "colab": {
      "provenance": [],
      "collapsed_sections": [
        "fmZCLq6Wju27"
      ]
    },
    "kernelspec": {
      "name": "python3",
      "display_name": "Python 3"
    },
    "language_info": {
      "name": "python"
    }
  },
  "cells": [
    {
      "cell_type": "markdown",
      "source": [
        "# Latin-Vai/ALALOC transliteration"
      ],
      "metadata": {
        "id": "tIAfzjiijctL"
      }
    },
    {
      "cell_type": "markdown",
      "source": [
        "## Setup"
      ],
      "metadata": {
        "id": "fmZCLq6Wju27"
      }
    },
    {
      "cell_type": "code",
      "execution_count": 1,
      "metadata": {
        "id": "yR5HegyZFavI"
      },
      "outputs": [],
      "source": [
        "%%capture\n",
        "try:\n",
        "  import google.colab\n",
        "  IN_COLAB = True\n",
        "except ImportError:\n",
        "  IN_COLAB = False\n",
        "if IN_COLAB:\n",
        "  try:\n",
        "    import el_utilities as elu\n",
        "  except ImportError:\n",
        "    !pip install -U git+https://github.com/enabling-languages/el_internationalisation.git#egg=el_internationalisation\n",
        "    !pip install -U git+https://github.com/enabling-languages/el_utilities.git#egg=el_utilities\n",
        "    import el_utilities as elu\n",
        "  from urllib.request import urlopen\n",
        "else:\n",
        "  import el_utilities as elu\n",
        "  from urllib.request import urlopen"
      ]
    },
    {
      "cell_type": "markdown",
      "source": [
        "## Create and register transformations"
      ],
      "metadata": {
        "id": "OZ-DiDVLj0M6"
      }
    },
    {
      "cell_type": "code",
      "source": [
        "any_sentence_ldml_url = \"https://raw.githubusercontent.com/enabling-languages/ldml/main/transform/Any-Sentence.xml\"\n",
        "casing_file = urlopen(any_sentence_ldml_url)\n",
        "elu.register_ldml(casing_file)\n",
        "vai_ldml_url = \"https://raw.githubusercontent.com/enabling-languages/ldml/main/transform/und-Vaii-t-und-latn-m0-alaloc-2011-rev.xml\"\n",
        "vai_file = urlopen(vai_ldml_url)\n",
        "elu.register_ldml(vai_file)"
      ],
      "metadata": {
        "id": "NkPstlSrFtL1"
      },
      "execution_count": 2,
      "outputs": []
    },
    {
      "cell_type": "markdown",
      "source": [
        "## Transformations\n",
        "\n",
        "## Iterations?"
      ],
      "metadata": {
        "id": "WL2M_3DOmaG5"
      }
    },
    {
      "cell_type": "code",
      "source": [
        "repetitions_input: str = input(\"Number of fields are required: \")\n",
        "repetitions: int = 1\n",
        "if repetitions_input:\n",
        "    repetitions = int(repetitions_input) if repetitions_input != \"0\" else 1"
      ],
      "metadata": {
        "colab": {
          "base_uri": "https://localhost:8080/"
        },
        "id": "1LpYVCiAF0HI",
        "outputId": "c0ff995f-6124-4dd7-97e2-3aa87b598476"
      },
      "execution_count": 3,
      "outputs": [
        {
          "name": "stdout",
          "output_type": "stream",
          "text": [
            "Number of fields are required: 1\n"
          ]
        }
      ]
    },
    {
      "cell_type": "markdown",
      "source": [
        "### Transliterations"
      ],
      "metadata": {
        "id": "7XgjeY_Umege"
      }
    },
    {
      "cell_type": "code",
      "source": [
        "# Test: Kpolo mɛɛ̃ ɓɛ ɓɛna kɔmiꗔna ɓaha wa tina adama ɗeŋ la tɔɔɓaha la kowa\n",
        "\n",
        "for n in range(0, repetitions):\n",
        "    latn_input_str: str = input(\"String to transform: \")\n",
        "    print(f'Coverted to Vai:\\n\\t{elu.translit_icu(latn_input_str, \"Latin-Vai/ALALOC\")}')"
      ],
      "metadata": {
        "colab": {
          "base_uri": "https://localhost:8080/"
        },
        "id": "KEuty6QuF1Ph",
        "outputId": "a1e0f09a-0f33-413a-d3db-41090191eb9c"
      },
      "execution_count": 6,
      "outputs": [
        {
          "output_type": "stream",
          "name": "stdout",
          "text": [
            "String to transform: Kpolo mɛɛ̃ ɓɛ ɓɛna kɔmiꗔna ɓaha wa tina adama ɗeŋ la tɔɔɓaha la kowa\n",
            "Coverted to Vai:\n",
            "\tꕺꖃ ꘈꗢ ꗪ ꗪꕯ ꗛꕆꗔꕯ ꕒꕌ ꕎ ꔳꕯ ꕉꕜꕮ ꔔꘋ ꕞ ꗋꖺꕒꕌ ꕞ ꖏꕎ\n"
          ]
        }
      ]
    }
  ]
}