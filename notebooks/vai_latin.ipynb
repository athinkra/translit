{
  "nbformat": 4,
  "nbformat_minor": 0,
  "metadata": {
    "colab": {
      "provenance": [],
      "collapsed_sections": [
        "fmZCLq6Wju27"
      ]
    },
    "kernelspec": {
      "name": "python3",
      "display_name": "Python 3"
    },
    "language_info": {
      "name": "python"
    }
  },
  "cells": [
    {
      "cell_type": "markdown",
      "source": [
        "# Vai-Latin/ALALOC transliteration"
      ],
      "metadata": {
        "id": "tIAfzjiijctL"
      }
    },
    {
      "cell_type": "markdown",
      "source": [
        "## Setup"
      ],
      "metadata": {
        "id": "fmZCLq6Wju27"
      }
    },
    {
      "cell_type": "code",
      "execution_count": 7,
      "metadata": {
        "id": "yR5HegyZFavI"
      },
      "outputs": [],
      "source": [
        "%%capture\n",
        "try:\n",
        "  import google.colab\n",
        "  IN_COLAB = True\n",
        "except ImportError:\n",
        "  IN_COLAB = False\n",
        "if IN_COLAB:\n",
        "  try:\n",
        "    import el_utilities as elu\n",
        "  except ImportError:\n",
        "    !pip install -U git+https://github.com/enabling-languages/el_internationalisation.git#egg=el_internationalisation\n",
        "    !pip install -U git+https://github.com/enabling-languages/el_utilities.git#egg=el_utilities\n",
        "    import el_utilities as elu\n",
        "  from urllib.request import urlopen\n",
        "else:\n",
        "  import el_utilities as elu\n",
        "  from urllib.request import urlopen"
      ]
    },
    {
      "cell_type": "markdown",
      "source": [
        "## Create and register transformations"
      ],
      "metadata": {
        "id": "OZ-DiDVLj0M6"
      }
    },
    {
      "cell_type": "code",
      "source": [
        "any_sentence_ldml_url = \"https://raw.githubusercontent.com/enabling-languages/ldml/main/transform/Any-Sentence.xml\"\n",
        "casing_file = urlopen(any_sentence_ldml_url)\n",
        "elu.register_ldml(casing_file)\n",
        "vai_ldml_url = \"https://raw.githubusercontent.com/enabling-languages/ldml/main/transform/und-Vaii-t-und-latn-m0-alaloc-2011-rev.xml\"\n",
        "vai_file = urlopen(vai_ldml_url)\n",
        "elu.register_ldml(vai_file)"
      ],
      "metadata": {
        "id": "NkPstlSrFtL1"
      },
      "execution_count": 2,
      "outputs": []
    },
    {
      "cell_type": "markdown",
      "source": [
        "## Transformations\n",
        "\n",
        "### Iterations?"
      ],
      "metadata": {
        "id": "EOI8BqrGlOCn"
      }
    },
    {
      "cell_type": "code",
      "source": [
        "repetitions_input: str = input(\"Number of fields are required: \")\n",
        "repetitions: int = 1\n",
        "if repetitions_input:\n",
        "    repetitions = int(repetitions_input) if repetitions_input != \"0\" else 1"
      ],
      "metadata": {
        "colab": {
          "base_uri": "https://localhost:8080/"
        },
        "id": "1LpYVCiAF0HI",
        "outputId": "f2a2c607-cd6c-49f2-a772-043e3cb74cdd"
      },
      "execution_count": 3,
      "outputs": [
        {
          "name": "stdout",
          "output_type": "stream",
          "text": [
            "Number of fields are required: 1\n"
          ]
        }
      ]
    },
    {
      "cell_type": "markdown",
      "source": [
        "### Transliterations"
      ],
      "metadata": {
        "id": "IHu3KkI2lV-P"
      }
    },
    {
      "cell_type": "code",
      "source": [
        "# Test: ꕺꖃ ꘈꗢ ꗪ ꗪꕯ ꗛꕆꗔꕯ ꕒꕌ ꕎ ꔳꕯ ꕉꕜꕮ ꔔꘋ ꕞ ꗋꖺꕒꕌ ꕞ ꖏꕎ\n",
        "\n",
        "for n in range(0, repetitions):\n",
        "    latn_input_str: str = input(\"String to transform: \")\n",
        "    vai_transformation = elu.translit_icu(latn_input_str, \"Vai-Latin/ALALOC\")\n",
        "    vai_transformation = elu.translit_icu(vai_transformation, \"Any-Sentence\")\n",
        "    print(f'Coverted to Vai:\\n\\t{vai_transformation}')"
      ],
      "metadata": {
        "colab": {
          "base_uri": "https://localhost:8080/"
        },
        "id": "KEuty6QuF1Ph",
        "outputId": "11e548bd-11a2-4ce6-92c9-a23abfd3abc0"
      },
      "execution_count": 6,
      "outputs": [
        {
          "output_type": "stream",
          "name": "stdout",
          "text": [
            "String to transform: ꕺꖃ ꘈꗢ ꗪ ꗪꕯ ꗛꕆꗔꕯ ꕒꕌ ꕎ ꔳꕯ ꕉꕜꕮ ꔔꘋ ꕞ ꗋꖺꕒꕌ ꕞ ꖏꕎ\n",
            "Coverted to Vai:\n",
            "\tKpolo mɛɛ̃ ɓɛ ɓɛna kɔmiꗔna ɓaha wa tina adama ɗeŋ la tɔɔɓaha la kowa\n"
          ]
        }
      ]
    }
  ]
}